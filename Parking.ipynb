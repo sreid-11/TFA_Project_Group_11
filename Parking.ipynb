{
 "cells": [
  {
   "cell_type": "code",
   "execution_count": 1,
   "id": "911b8a3f",
   "metadata": {},
   "outputs": [],
   "source": [
    "import pandas as pd\n",
    "import numpy as np"
   ]
  },
  {
   "cell_type": "code",
   "execution_count": null,
   "id": "e04d2be4",
   "metadata": {},
   "outputs": [],
   "source": [
    "data = pd.read_csv('311_Service_Requests_2020.csv')\n",
    "data"
   ]
  },
  {
   "cell_type": "code",
   "execution_count": null,
   "id": "bd76a10e",
   "metadata": {},
   "outputs": [],
   "source": [
    "totalindata = data.shape[0]\n",
    "illegalparkingtotal = data[data['Complaint Type']==\"Illegal Parking\"]\n",
    "illegalparkingtotalnumber = illegalparkingtotal.shape[0]\n",
    "totalfraction = illegalparkingtotalnumber/totalindata\n",
    "print(\"%1.2f%%\"%totalfraction)"
   ]
  },
  {
   "cell_type": "code",
   "execution_count": null,
   "id": "a1a93409",
   "metadata": {},
   "outputs": [],
   "source": [
    "ourzip = data[data['Incident Zip'] ==  10027.0]\n",
    "total = ourzip.shape[0]\n",
    "parking = ourzip[ourzip['Complaint Type'] == \"Illegal Parking\"]\n",
    "illegalparking = parking.shape[0]\n",
    "fraction = illegalparking/total\n",
    "print(\"%1.2f%%\"%fraction)"
   ]
  },
  {
   "cell_type": "code",
   "execution_count": null,
   "id": "98c418a5",
   "metadata": {},
   "outputs": [],
   "source": [
    "if fraction > totalfraction:\n",
    "    higher_parking_proportion = True\n",
    "else:\n",
    "    higher_parking_proportion = False\n",
    "\n",
    "higher_parking_proportion"
   ]
  }
 ],
 "metadata": {
  "kernelspec": {
   "display_name": "Python 3",
   "language": "python",
   "name": "python3"
  },
  "language_info": {
   "codemirror_mode": {
    "name": "ipython",
    "version": 3
   },
   "file_extension": ".py",
   "mimetype": "text/x-python",
   "name": "python",
   "nbconvert_exporter": "python",
   "pygments_lexer": "ipython3",
   "version": "3.8.8"
  }
 },
 "nbformat": 4,
 "nbformat_minor": 5
}
