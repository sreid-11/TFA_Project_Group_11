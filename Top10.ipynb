{
 "cells": [
  {
   "cell_type": "code",
   "execution_count": null,
   "id": "cd3422ce-3ca5-4cba-b2c0-99e038f1d43a",
   "metadata": {},
   "outputs": [],
   "source": [
    "import pandas as pd\n",
    "import numpy as np\n",
    "\n",
    "df = pd.read_csv(\"311_Service_Requests_2020.csv\")"
   ]
  },
  {
   "cell_type": "code",
   "execution_count": null,
   "id": "c1ed54ad-c45b-4ceb-b7d7-9b4ecd5192f4",
   "metadata": {},
   "outputs": [],
   "source": [
    "zip_code = \"10027\"\n",
    "df_zip = df[df[\"Incident Zip\"] == float(zip_code)]\n",
    "\n",
    "zip_top_complaints = df_zip.groupby(\"Complaint Type\").size().sort_values(ascending=False).head(n=10).index.tolist()\n",
    "zip_top_complaints_sum = df_zip.groupby(\"Complaint Type\").size().sort_values(ascending=False).head(n=10).tolist()"
   ]
  },
  {
   "cell_type": "code",
   "execution_count": null,
   "id": "d4fb2ec0-11fc-495b-9a66-dba4c2d88c1a",
   "metadata": {},
   "outputs": [],
   "source": [
    "top10 = pd.Series(data=zip_top_complaints_sum, index=zip_top_complaints).sort_values(ascending=False)\n",
    "top10"
   ]
  }
 ],
 "metadata": {
  "kernelspec": {
   "display_name": "Python 3",
   "language": "python",
   "name": "python3"
  },
  "language_info": {
   "codemirror_mode": {
    "name": "ipython",
    "version": 3
   },
   "file_extension": ".py",
   "mimetype": "text/x-python",
   "name": "python",
   "nbconvert_exporter": "python",
   "pygments_lexer": "ipython3",
   "version": "3.8.8"
  }
 },
 "nbformat": 4,
 "nbformat_minor": 5
}
